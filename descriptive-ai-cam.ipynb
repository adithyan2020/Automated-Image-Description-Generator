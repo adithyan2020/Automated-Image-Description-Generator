{
 "cells": [
  {
   "cell_type": "code",
   "execution_count": 2,
   "metadata": {
    "_cell_guid": "b1076dfc-b9ad-4769-8c92-a6c4dae69d19",
    "_uuid": "8f2839f25d086af736a60e9eeb907d3b93b6e0e5",
    "execution": {
     "iopub.execute_input": "2022-09-07T16:24:10.431685Z",
     "iopub.status.busy": "2022-09-07T16:24:10.431220Z",
     "iopub.status.idle": "2022-09-07T16:24:17.790235Z",
     "shell.execute_reply": "2022-09-07T16:24:17.789161Z",
     "shell.execute_reply.started": "2022-09-07T16:24:10.431643Z"
    }
   },
   "outputs": [],
   "source": [
    "import numpy as np # linear algebra\n",
    "import pandas as pd # data processing, CSV file I/O (e.g. pd.read_csv)\n",
    "\n",
    "import os\n",
    "for dirname, _, filenames in os.walk('/kaggle/input'):\n",
    "    for filename in filenames:\n",
    "        print(os.path.join(dirname, filename))\n",
    "\n"
   ]
  },
  {
   "cell_type": "code",
   "execution_count": 3,
   "metadata": {
    "execution": {
     "iopub.execute_input": "2022-09-07T16:24:17.792060Z",
     "iopub.status.busy": "2022-09-07T16:24:17.791726Z",
     "iopub.status.idle": "2022-09-07T16:24:23.318736Z",
     "shell.execute_reply": "2022-09-07T16:24:23.317752Z",
     "shell.execute_reply.started": "2022-09-07T16:24:17.792028Z"
    }
   },
   "outputs": [],
   "source": [
    "import os\n",
    "import pickle\n",
    "import numpy as np\n",
    "from tqdm.notebook import tqdm\n",
    "from tensorflow.keras.applications.vgg16 import VGG16, preprocess_input\n",
    "from tensorflow.keras.preprocessing.image import load_img, img_to_array\n",
    "from tensorflow.keras.preprocessing.text import Tokenizer\n",
    "from tensorflow.keras.preprocessing.sequence import pad_sequences\n",
    "from tensorflow.keras.models import Model\n",
    "from tensorflow.keras.utils import to_categorical, plot_model\n",
    "from tensorflow.keras.layers import Input, Dense, LSTM, Embedding, Dropout, add\n"
   ]
  },
  {
   "cell_type": "code",
   "execution_count": 4,
   "metadata": {
    "execution": {
     "iopub.execute_input": "2022-09-07T16:24:23.321638Z",
     "iopub.status.busy": "2022-09-07T16:24:23.320569Z",
     "iopub.status.idle": "2022-09-07T16:24:23.329327Z",
     "shell.execute_reply": "2022-09-07T16:24:23.327688Z",
     "shell.execute_reply.started": "2022-09-07T16:24:23.321600Z"
    }
   },
   "outputs": [],
   "source": [
    "BASE_DIR = '/kaggle/input/flickr8k'\n",
    "WORKING_DIR = '/kaggle/working'"
   ]
  },
  {
   "cell_type": "code",
   "execution_count": 5,
   "metadata": {
    "execution": {
     "iopub.execute_input": "2022-09-07T16:24:23.333446Z",
     "iopub.status.busy": "2022-09-07T16:24:23.332842Z",
     "iopub.status.idle": "2022-09-07T16:24:30.668982Z",
     "shell.execute_reply": "2022-09-07T16:24:30.667903Z",
     "shell.execute_reply.started": "2022-09-07T16:24:23.333409Z"
    }
   },
   "outputs": [],
   "source": [
    "# load vgg16 model\n",
    "model = VGG16()\n",
    "# restructure the model\n",
    "model = Model(inputs=model.inputs, outputs=model.layers[-2].output)\n",
    "# summarize\n",
    "print(model.summary())\n",
    "\n"
   ]
  },
  {
   "cell_type": "code",
   "execution_count": 6,
   "metadata": {
    "execution": {
     "iopub.execute_input": "2022-09-07T16:24:30.671179Z",
     "iopub.status.busy": "2022-09-07T16:24:30.670276Z",
     "iopub.status.idle": "2022-09-07T16:32:46.847691Z",
     "shell.execute_reply": "2022-09-07T16:32:46.846714Z",
     "shell.execute_reply.started": "2022-09-07T16:24:30.671139Z"
    }
   },
   "outputs": [],
   "source": [
    "# extract features from image\n",
    "features = {}\n",
    "directory = os.path.join(BASE_DIR, 'Images')\n",
    "\n",
    "for img_name in tqdm(os.listdir(directory)):\n",
    "    \n",
    "    img_path = directory + '/' + img_name\n",
    "    image = load_img(img_path, target_size=(224, 224))\n",
    "    \n",
    "    image = img_to_array(image)\n",
    "    \n",
    "    image = image.reshape((1, image.shape[0], image.shape[1], image.shape[2]))\n",
    "    \n",
    "    image = preprocess_input(image)\n",
    "    \n",
    "    feature = model.predict(image, verbose=0)\n",
    "    \n",
    "    image_id = img_name.split('.')[0]\n",
    "    \n",
    "    features[image_id] = feature"
   ]
  },
  {
   "cell_type": "code",
   "execution_count": 14,
   "metadata": {
    "execution": {
     "iopub.execute_input": "2022-09-07T16:35:55.662174Z",
     "iopub.status.busy": "2022-09-07T16:35:55.661458Z",
     "iopub.status.idle": "2022-09-07T16:35:55.801146Z",
     "shell.execute_reply": "2022-09-07T16:35:55.800101Z",
     "shell.execute_reply.started": "2022-09-07T16:35:55.662137Z"
    }
   },
   "outputs": [],
   "source": [
    "with open(os.path.join(WORKING_DIR, 'features.pkl'), 'rb') as f:\n",
    "    features = pickle.load(f)"
   ]
  },
  {
   "cell_type": "code",
   "execution_count": 16,
   "metadata": {
    "execution": {
     "iopub.execute_input": "2022-09-07T16:36:15.561586Z",
     "iopub.status.busy": "2022-09-07T16:36:15.561221Z",
     "iopub.status.idle": "2022-09-07T16:36:15.628257Z",
     "shell.execute_reply": "2022-09-07T16:36:15.627249Z",
     "shell.execute_reply.started": "2022-09-07T16:36:15.561556Z"
    }
   },
   "outputs": [],
   "source": [
    "with open(os.path.join(BASE_DIR, 'captions.txt'), 'r') as f:\n",
    "    next(f)\n",
    "    captions_doc = f.read()"
   ]
  },
  {
   "cell_type": "code",
   "execution_count": 18,
   "metadata": {
    "execution": {
     "iopub.execute_input": "2022-09-07T16:36:31.333939Z",
     "iopub.status.busy": "2022-09-07T16:36:31.333264Z",
     "iopub.status.idle": "2022-09-07T16:36:31.462874Z",
     "shell.execute_reply": "2022-09-07T16:36:31.461774Z",
     "shell.execute_reply.started": "2022-09-07T16:36:31.333901Z"
    }
   },
   "outputs": [],
   "source": [
    "mapping = {}\n",
    "\n",
    "for line in tqdm(captions_doc.split('\\n')):\n",
    "    \n",
    "    tokens = line.split(',')\n",
    "    if len(line) < 2:\n",
    "        continue\n",
    "    image_id, caption = tokens[0], tokens[1:]\n",
    "    \n",
    "    image_id = image_id.split('.')[0]\n",
    "    \n",
    "    caption = \" \".join(caption)\n",
    "    \n",
    "    if image_id not in mapping:\n",
    "        mapping[image_id] = []\n",
    "    \n",
    "    mapping[image_id].append(caption)"
   ]
  },
  {
   "cell_type": "code",
   "execution_count": 19,
   "metadata": {
    "execution": {
     "iopub.execute_input": "2022-09-07T16:36:42.871805Z",
     "iopub.status.busy": "2022-09-07T16:36:42.871163Z",
     "iopub.status.idle": "2022-09-07T16:36:42.880238Z",
     "shell.execute_reply": "2022-09-07T16:36:42.879051Z",
     "shell.execute_reply.started": "2022-09-07T16:36:42.871744Z"
    }
   },
   "outputs": [],
   "source": [
    "len(mapping)"
   ]
  },
  {
   "cell_type": "code",
   "execution_count": 26,
   "metadata": {
    "execution": {
     "iopub.execute_input": "2022-09-07T16:40:05.550558Z",
     "iopub.status.busy": "2022-09-07T16:40:05.549648Z",
     "iopub.status.idle": "2022-09-07T16:40:05.558772Z",
     "shell.execute_reply": "2022-09-07T16:40:05.556828Z",
     "shell.execute_reply.started": "2022-09-07T16:40:05.550522Z"
    }
   },
   "outputs": [],
   "source": [
    "def clean(mapping):\n",
    "    for key, captions in mapping.items():\n",
    "        for i in range(len(captions)):\n",
    "        \n",
    "         caption = captions[i]\n",
    "       \n",
    "        \n",
    "        caption = caption.lower()\n",
    "        \n",
    "        caption = caption.replace('[^A-Za-z]', '')\n",
    "        \n",
    "        caption = caption.replace('\\s+', ' ')\n",
    "        \n",
    "        caption = 'startseq ' + \" \".join([word for word in caption.split() if len(word)>1]) + ' endseq'\n",
    "        captions[i] = caption"
   ]
  },
  {
   "cell_type": "code",
   "execution_count": 27,
   "metadata": {
    "execution": {
     "iopub.execute_input": "2022-09-07T16:40:18.732025Z",
     "iopub.status.busy": "2022-09-07T16:40:18.731155Z",
     "iopub.status.idle": "2022-09-07T16:40:18.738832Z",
     "shell.execute_reply": "2022-09-07T16:40:18.737746Z",
     "shell.execute_reply.started": "2022-09-07T16:40:18.731988Z"
    }
   },
   "outputs": [],
   "source": [
    "mapping['1000268201_693b08cb0e']"
   ]
  },
  {
   "cell_type": "code",
   "execution_count": 29,
   "metadata": {
    "execution": {
     "iopub.execute_input": "2022-09-07T16:40:32.862803Z",
     "iopub.status.busy": "2022-09-07T16:40:32.861705Z",
     "iopub.status.idle": "2022-09-07T16:40:32.899809Z",
     "shell.execute_reply": "2022-09-07T16:40:32.898642Z",
     "shell.execute_reply.started": "2022-09-07T16:40:32.862732Z"
    }
   },
   "outputs": [],
   "source": [
    "clean(mapping)"
   ]
  },
  {
   "cell_type": "code",
   "execution_count": 30,
   "metadata": {
    "execution": {
     "iopub.execute_input": "2022-09-07T16:40:47.846714Z",
     "iopub.status.busy": "2022-09-07T16:40:47.846322Z",
     "iopub.status.idle": "2022-09-07T16:40:47.853413Z",
     "shell.execute_reply": "2022-09-07T16:40:47.852280Z",
     "shell.execute_reply.started": "2022-09-07T16:40:47.846683Z"
    }
   },
   "outputs": [],
   "source": [
    "mapping['1000268201_693b08cb0e']"
   ]
  },
  {
   "cell_type": "code",
   "execution_count": 32,
   "metadata": {
    "execution": {
     "iopub.execute_input": "2022-09-07T16:41:17.474406Z",
     "iopub.status.busy": "2022-09-07T16:41:17.473721Z",
     "iopub.status.idle": "2022-09-07T16:41:17.490003Z",
     "shell.execute_reply": "2022-09-07T16:41:17.488686Z",
     "shell.execute_reply.started": "2022-09-07T16:41:17.474370Z"
    }
   },
   "outputs": [],
   "source": [
    "all_captions = []\n",
    "for key in mapping:\n",
    "    for caption in mapping[key]:\n",
    "        all_captions.append(caption)"
   ]
  },
  {
   "cell_type": "code",
   "execution_count": 33,
   "metadata": {
    "execution": {
     "iopub.execute_input": "2022-09-07T16:41:24.578500Z",
     "iopub.status.busy": "2022-09-07T16:41:24.577196Z",
     "iopub.status.idle": "2022-09-07T16:41:24.585176Z",
     "shell.execute_reply": "2022-09-07T16:41:24.583993Z",
     "shell.execute_reply.started": "2022-09-07T16:41:24.578453Z"
    }
   },
   "outputs": [],
   "source": [
    "len(all_captions)"
   ]
  },
  {
   "cell_type": "code",
   "execution_count": 34,
   "metadata": {
    "execution": {
     "iopub.execute_input": "2022-09-07T16:41:32.907654Z",
     "iopub.status.busy": "2022-09-07T16:41:32.907083Z",
     "iopub.status.idle": "2022-09-07T16:41:32.914404Z",
     "shell.execute_reply": "2022-09-07T16:41:32.913373Z",
     "shell.execute_reply.started": "2022-09-07T16:41:32.907620Z"
    }
   },
   "outputs": [],
   "source": [
    "all_captions[:10]"
   ]
  },
  {
   "cell_type": "code",
   "execution_count": 35,
   "metadata": {
    "execution": {
     "iopub.execute_input": "2022-09-07T16:41:42.223910Z",
     "iopub.status.busy": "2022-09-07T16:41:42.222858Z",
     "iopub.status.idle": "2022-09-07T16:41:43.081652Z",
     "shell.execute_reply": "2022-09-07T16:41:43.080603Z",
     "shell.execute_reply.started": "2022-09-07T16:41:42.223863Z"
    }
   },
   "outputs": [],
   "source": [
    "tokenizer = Tokenizer()\n",
    "tokenizer.fit_on_texts(all_captions)\n",
    "vocab_size = len(tokenizer.word_index) + 1"
   ]
  },
  {
   "cell_type": "code",
   "execution_count": 36,
   "metadata": {
    "execution": {
     "iopub.execute_input": "2022-09-07T16:41:53.075568Z",
     "iopub.status.busy": "2022-09-07T16:41:53.074603Z",
     "iopub.status.idle": "2022-09-07T16:41:53.081835Z",
     "shell.execute_reply": "2022-09-07T16:41:53.080574Z",
     "shell.execute_reply.started": "2022-09-07T16:41:53.075530Z"
    }
   },
   "outputs": [],
   "source": [
    "vocab_size"
   ]
  },
  {
   "cell_type": "code",
   "execution_count": 37,
   "metadata": {
    "execution": {
     "iopub.execute_input": "2022-09-07T16:42:06.694280Z",
     "iopub.status.busy": "2022-09-07T16:42:06.693896Z",
     "iopub.status.idle": "2022-09-07T16:42:06.732988Z",
     "shell.execute_reply": "2022-09-07T16:42:06.731864Z",
     "shell.execute_reply.started": "2022-09-07T16:42:06.694251Z"
    }
   },
   "outputs": [],
   "source": [
    "max_length = max(len(caption.split()) for caption in all_captions)\n",
    "max_length"
   ]
  },
  {
   "cell_type": "code",
   "execution_count": 39,
   "metadata": {
    "execution": {
     "iopub.execute_input": "2022-09-07T16:42:17.336436Z",
     "iopub.status.busy": "2022-09-07T16:42:17.335764Z",
     "iopub.status.idle": "2022-09-07T16:42:17.342531Z",
     "shell.execute_reply": "2022-09-07T16:42:17.341201Z",
     "shell.execute_reply.started": "2022-09-07T16:42:17.336398Z"
    }
   },
   "outputs": [],
   "source": [
    "image_ids = list(mapping.keys())\n",
    "split = int(len(image_ids) * 0.90)\n",
    "train = image_ids[:split]\n",
    "test = image_ids[split:]"
   ]
  },
  {
   "cell_type": "code",
   "execution_count": 51,
   "metadata": {
    "execution": {
     "iopub.execute_input": "2022-09-07T16:46:18.571456Z",
     "iopub.status.busy": "2022-09-07T16:46:18.571092Z",
     "iopub.status.idle": "2022-09-07T16:46:18.581704Z",
     "shell.execute_reply": "2022-09-07T16:46:18.580574Z",
     "shell.execute_reply.started": "2022-09-07T16:46:18.571425Z"
    }
   },
   "outputs": [],
   "source": [
    "def data_generator(data_keys, mapping, features, tokenizer, max_length, vocab_size, batch_size):\n",
    "   \n",
    "    X1, X2, y = list(), list(), list()\n",
    "    n = 0\n",
    "    while 1:\n",
    "        for key in data_keys:\n",
    "            n += 1\n",
    "            captions = mapping[key]\n",
    "            \n",
    "            for caption in captions:\n",
    "                \n",
    "                seq = tokenizer.texts_to_sequences([caption])[0]\n",
    "                \n",
    "                for i in range(1, len(seq)):\n",
    "                    \n",
    "                    in_seq, out_seq = seq[:i], seq[i]\n",
    "                   \n",
    "                    in_seq = pad_sequences([in_seq], maxlen=max_length) [0]\n",
    "                   \n",
    "                    out_seq = to_categorical([out_seq], \n",
    "                       num_classes=vocab_size)[0]\n",
    "                    \n",
    "                  \n",
    "                    X1.append(features[key][0])\n",
    "                    X2.append(in_seq)\n",
    "                    y.append(out_seq)\n",
    "                    if n == batch_size:\n",
    "                        X1, X2, y = np.array(X1), np.array(X2), np.array(y)\n",
    "                        yield [X1, X2], y\n",
    "                        X1, X2, y = list(), list(), list()\n",
    "                        n = 0"
   ]
  },
  {
   "cell_type": "code",
   "execution_count": 52,
   "metadata": {
    "execution": {
     "iopub.execute_input": "2022-09-07T16:46:48.299028Z",
     "iopub.status.busy": "2022-09-07T16:46:48.298465Z",
     "iopub.status.idle": "2022-09-07T16:46:50.899051Z",
     "shell.execute_reply": "2022-09-07T16:46:50.897716Z",
     "shell.execute_reply.started": "2022-09-07T16:46:48.298974Z"
    }
   },
   "outputs": [],
   "source": [
    "inputs1 = Input(shape=(4096,))\n",
    "fe1 = Dropout(0.4)(inputs1)\n",
    "fe2 = Dense(256, activation='relu')(fe1)\n",
    "\n",
    "inputs2 = Input(shape=(max_length,))\n",
    "se1 = Embedding(vocab_size, 256, mask_zero=True)(inputs2)\n",
    "se2 = Dropout(0.4)(se1)\n",
    "se3 = LSTM(256)(se2)\n",
    "\n",
    "\n",
    "decoder1 = add([fe2, se3])\n",
    "decoder2 = Dense(256, activation='relu')(decoder1)\n",
    "outputs = Dense(vocab_size, activation='softmax')(decoder2)\n",
    "\n",
    "model = Model(inputs=[inputs1, inputs2], outputs=outputs)\n",
    "model.compile(loss='categorical_crossentropy', optimizer='adam')\n",
    "\n",
    "\n",
    "plot_model(model, show_shapes=True)"
   ]
  },
  {
   "cell_type": "code",
   "execution_count": 53,
   "metadata": {
    "execution": {
     "iopub.execute_input": "2022-09-07T16:47:07.635021Z",
     "iopub.status.busy": "2022-09-07T16:47:07.634605Z",
     "iopub.status.idle": "2022-09-07T17:10:37.164643Z",
     "shell.execute_reply": "2022-09-07T17:10:37.163398Z",
     "shell.execute_reply.started": "2022-09-07T16:47:07.634985Z"
    }
   },
   "outputs": [],
   "source": [
    "\n",
    "epochs = 20\n",
    "batch_size = 32\n",
    "steps = len(train) // batch_size\n",
    "\n",
    "for i in range(epochs):\n",
    "    \n",
    "    generator = data_generator(train, mapping, features, tokenizer, max_length, vocab_size, batch_size)\n",
    "    \n",
    "    model.fit(generator, epochs=1, steps_per_epoch=steps, verbose=1)"
   ]
  },
  {
   "cell_type": "code",
   "execution_count": 54,
   "metadata": {
    "execution": {
     "iopub.execute_input": "2022-09-07T17:10:54.804424Z",
     "iopub.status.busy": "2022-09-07T17:10:54.803864Z",
     "iopub.status.idle": "2022-09-07T17:10:54.982131Z",
     "shell.execute_reply": "2022-09-07T17:10:54.980889Z",
     "shell.execute_reply.started": "2022-09-07T17:10:54.804388Z"
    }
   },
   "outputs": [],
   "source": [
    "model.save(WORKING_DIR+'/best_model.h5')"
   ]
  },
  {
   "cell_type": "code",
   "execution_count": 56,
   "metadata": {
    "execution": {
     "iopub.execute_input": "2022-09-07T17:11:25.128508Z",
     "iopub.status.busy": "2022-09-07T17:11:25.127847Z",
     "iopub.status.idle": "2022-09-07T17:11:25.134701Z",
     "shell.execute_reply": "2022-09-07T17:11:25.133326Z",
     "shell.execute_reply.started": "2022-09-07T17:11:25.128470Z"
    }
   },
   "outputs": [],
   "source": [
    "def idx_to_word(integer, tokenizer):\n",
    "    for word, index in tokenizer.word_index.items():\n",
    "        if index == integer:\n",
    "          return word\n",
    "    return None"
   ]
  },
  {
   "cell_type": "code",
   "execution_count": 57,
   "metadata": {
    "execution": {
     "iopub.execute_input": "2022-09-07T17:11:38.726366Z",
     "iopub.status.busy": "2022-09-07T17:11:38.726001Z",
     "iopub.status.idle": "2022-09-07T17:11:38.734093Z",
     "shell.execute_reply": "2022-09-07T17:11:38.732823Z",
     "shell.execute_reply.started": "2022-09-07T17:11:38.726335Z"
    }
   },
   "outputs": [],
   "source": [
    "def predict_caption(model, image, tokenizer, max_length):\n",
    "    \n",
    "    in_text = 'startseq'\n",
    "   \n",
    "    for i in range(max_length):\n",
    "        \n",
    "        sequence = tokenizer.texts_to_sequences([in_text])[0]\n",
    "       \n",
    "        sequence = pad_sequences([sequence], max_length)\n",
    "      \n",
    "        yhat = model.predict([image, sequence], verbose=0)\n",
    "       \n",
    "        yhat = np.argmax(yhat)\n",
    "      \n",
    "        word = idx_to_word(yhat, tokenizer)\n",
    "       \n",
    "        if word is None:\n",
    "            break\n",
    "       \n",
    "        in_text += \" \" + word\n",
    "      \n",
    "        if word == 'endseq':\n",
    "            break\n",
    "    return in_text"
   ]
  },
  {
   "cell_type": "code",
   "execution_count": 58,
   "metadata": {
    "execution": {
     "iopub.execute_input": "2022-09-07T17:11:52.958416Z",
     "iopub.status.busy": "2022-09-07T17:11:52.957696Z",
     "iopub.status.idle": "2022-09-07T17:22:16.777589Z",
     "shell.execute_reply": "2022-09-07T17:22:16.776421Z",
     "shell.execute_reply.started": "2022-09-07T17:11:52.958374Z"
    }
   },
   "outputs": [],
   "source": [
    "from nltk.translate.bleu_score import corpus_bleu\n",
    "\n",
    "actual, predicted = list(), list()\n",
    "\n",
    "for key in tqdm(test):\n",
    "   \n",
    "    captions = mapping[key]\n",
    "   \n",
    "    y_pred = predict_caption(model, features[key], tokenizer, max_length)\n",
    "  \n",
    "    actual_captions = [caption.split() for caption in captions]\n",
    "    y_pred = y_pred.split()\n",
    "   \n",
    "    actual.append(actual_captions)\n",
    "    predicted.append(y_pred)\n",
    "   \n",
    "    print(\"BLEU-1: %f\" % corpus_bleu(actual, predicted, weights=(1.0, 0, 0, 0)))\n",
    "    print(\"BLEU-2: %f\" % corpus_bleu(actual, predicted, weights=(0.5, 0.5, 0, 0)))"
   ]
  },
  {
   "cell_type": "code",
   "execution_count": 59,
   "metadata": {
    "execution": {
     "iopub.execute_input": "2022-09-07T17:22:50.183886Z",
     "iopub.status.busy": "2022-09-07T17:22:50.183397Z",
     "iopub.status.idle": "2022-09-07T17:22:50.192966Z",
     "shell.execute_reply": "2022-09-07T17:22:50.191964Z",
     "shell.execute_reply.started": "2022-09-07T17:22:50.183847Z"
    }
   },
   "outputs": [],
   "source": [
    "from PIL import Image\n",
    "import matplotlib.pyplot as plt\n",
    "def generate_caption(image_name):\n",
    "   \n",
    "    image_id = image_name.split('.')[0]\n",
    "    img_path = os.path.join(BASE_DIR, \"Images\", image_name)\n",
    "    image = Image.open(img_path)\n",
    "    captions = mapping[image_id]\n",
    "    print('---------------------Actual---------------------')\n",
    "    for caption in captions:\n",
    "        print(caption)\n",
    "   \n",
    "    y_pred = predict_caption(model, features[image_id], tokenizer, max_length)\n",
    "    print('--------------------Predicted--------------------')\n",
    "    print(y_pred)\n",
    "    plt.imshow(image)"
   ]
  },
  {
   "cell_type": "code",
   "execution_count": 60,
   "metadata": {
    "execution": {
     "iopub.execute_input": "2022-09-07T17:23:15.763709Z",
     "iopub.status.busy": "2022-09-07T17:23:15.763319Z",
     "iopub.status.idle": "2022-09-07T17:23:16.463553Z",
     "shell.execute_reply": "2022-09-07T17:23:16.462672Z",
     "shell.execute_reply.started": "2022-09-07T17:23:15.763676Z"
    }
   },
   "outputs": [],
   "source": [
    "generate_caption(\"1001773457_577c3a7d70.jpg\")\n"
   ]
  },
  {
   "cell_type": "code",
   "execution_count": 61,
   "metadata": {
    "execution": {
     "iopub.execute_input": "2022-09-07T17:23:54.375302Z",
     "iopub.status.busy": "2022-09-07T17:23:54.374936Z",
     "iopub.status.idle": "2022-09-07T17:23:55.128062Z",
     "shell.execute_reply": "2022-09-07T17:23:55.127059Z",
     "shell.execute_reply.started": "2022-09-07T17:23:54.375273Z"
    }
   },
   "outputs": [],
   "source": [
    "generate_caption(\"1002674143_1b742ab4b8.jpg\")"
   ]
  }
 ],
 "metadata": {
  "kernelspec": {
   "display_name": "Python 3",
   "language": "python",
   "name": "python3"
  },
  "language_info": {
   "codemirror_mode": {
    "name": "ipython",
    "version": 3
   },
   "file_extension": ".py",
   "mimetype": "text/x-python",
   "name": "python",
   "nbconvert_exporter": "python",
   "pygments_lexer": "ipython3",
   "version": "3.8.5"
  }
 },
 "nbformat": 4,
 "nbformat_minor": 4
}
